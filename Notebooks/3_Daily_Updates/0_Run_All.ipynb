{
 "cells": [
  {
   "cell_type": "markdown",
   "id": "c90f8daa-6e28-43b7-8f8a-72ddd6a8b421",
   "metadata": {},
   "source": [
    "## Prep"
   ]
  },
  {
   "cell_type": "code",
   "execution_count": 25,
   "id": "f1a01f4b-6867-4e67-9448-a472c520b563",
   "metadata": {},
   "outputs": [],
   "source": [
    "# File Manipulation\n",
    "\n",
    "import os # For working with Operating System\n",
    "import sys # System arguments\n",
    "from io import StringIO # String input/output\n",
    "from dotenv import load_dotenv # Loading .env info\n",
    "\n",
    "# Web\n",
    "\n",
    "import requests # Accessing the Web\n",
    "\n",
    "# Time\n",
    "\n",
    "import datetime as dt # Working with dates/times\n",
    "import pytz # Timezones\n",
    "import time # For Sleeping\n",
    "\n",
    "# Database \n",
    "\n",
    "import psycopg2\n",
    "from psycopg2 import sql\n",
    "\n",
    "# Data Manipulation\n",
    "\n",
    "import numpy as np\n",
    "import geopandas as gpd\n",
    "import pandas as pd"
   ]
  },
  {
   "cell_type": "markdown",
   "id": "80f0d897-f7f6-4729-b482-3f9cbe288124",
   "metadata": {},
   "source": [
    "### Load Functions"
   ]
  },
  {
   "cell_type": "code",
   "execution_count": 27,
   "id": "526c25db-0029-4dfc-a47c-4dce3d7c19ea",
   "metadata": {},
   "outputs": [],
   "source": [
    "script_path = os.path.join('..', '..', 'Scripts', 'python')\n",
    "\n",
    "# Function definition - Please see Scripts/python/*\n",
    "exec(open(os.path.join(script_path, 'Get_spikes_df.py')).read())\n",
    "exec(open(os.path.join(script_path, 'Create_messages.py')).read())\n",
    "exec(open(os.path.join(script_path, 'twilio_functions.py')).read())\n",
    "exec(open(os.path.join(script_path, 'Update_Alerts.py')).read())\n",
    "exec(open(os.path.join(script_path, 'Send_Alerts.py')).read())\n",
    "exec(open(os.path.join(script_path, 'Daily_Updates.py')).read())"
   ]
  },
  {
   "cell_type": "markdown",
   "id": "7f5c9560-1c36-4900-bbe5-f50066ce58b8",
   "metadata": {},
   "source": [
    "### Global Variables"
   ]
  },
  {
   "cell_type": "code",
   "execution_count": 28,
   "id": "aacf0d77-aecb-4fd9-93ce-0212ccb30d09",
   "metadata": {},
   "outputs": [],
   "source": [
    "load_dotenv() # Load .env file\n",
    "\n",
    "## API Keys\n",
    "\n",
    "purpleAir_api = os.getenv('PURPLEAIR_API_TOKEN') # PurpleAir API Read Key\n",
    "\n",
    "redCap_token_signUp = os.getenv('REDCAP_TOKEN_SIGNUP') # Survey Token\n",
    "redCap_token_report = os.getenv('REDCAP_TOKEN_REPORT') # Report Token\n",
    "\n",
    "## Database credentials\n",
    "\n",
    "creds = [os.getenv('DB_NAME'),\n",
    "         os.getenv('DB_USER'),\n",
    "         os.getenv('DB_PASS'),\n",
    "         os.getenv('DB_PORT'),\n",
    "         os.getenv('DB_HOST')\n",
    "        ]\n",
    "\n",
    "pg_connection_dict = dict(zip(['dbname', 'user', 'password', 'port', 'host'], creds))  \n",
    "\n",
    "## Twilio Information\n",
    "\n",
    "TWILIO_ACCOUNT_SID = os.getenv('TWILIO_ACCOUNT_SID')\n",
    "TWILIO_AUTH_TOKEN = os.getenv('TWILIO_AUTH_TOKEN')\n",
    "TWILIO_NUMBER = os.getenv('TWILIO_NUMBER')"
   ]
  },
  {
   "cell_type": "markdown",
   "id": "c1d53dd2-805f-47a6-96bc-cef067a16ec5",
   "metadata": {},
   "source": [
    "### When to Update?"
   ]
  },
  {
   "cell_type": "code",
   "execution_count": 29,
   "id": "4af9099e-008e-421a-a95c-40ecd116451e",
   "metadata": {},
   "outputs": [],
   "source": [
    "# When to stop the program? (datetime)\n",
    "days_to_run = 1 # How many days will we run this?\n",
    "starttime = dt.datetime.now(pytz.timezone('America/Chicago')) \n",
    "stoptime = starttime + dt.timedelta(days=days_to_run)"
   ]
  },
  {
   "cell_type": "code",
   "execution_count": 30,
   "id": "fc6b6c0a-1af3-4d83-8358-4d249f6553fc",
   "metadata": {},
   "outputs": [
    {
     "name": "stdout",
     "output_type": "stream",
     "text": [
      "2023-11-16 08:00:00.158833-06:00\n"
     ]
    }
   ],
   "source": [
    "next_update_time = starttime.replace(hour=8, minute = 0, second = 0)\n",
    "\n",
    "print(next_update_time)"
   ]
  },
  {
   "cell_type": "code",
   "execution_count": 31,
   "id": "9b452480-2ecc-4889-98d1-06b2bf6190a1",
   "metadata": {},
   "outputs": [],
   "source": [
    "# When was last update?\n",
    "\n",
    "# Connect\n",
    "conn = psycopg2.connect(**pg_connection_dict) \n",
    "# Create cursor\n",
    "cur = conn.cursor()\n",
    "\n",
    "cmd = sql.SQL('''SELECT MAX(last_seen)\n",
    "FROM \"PurpleAir Stations\";\n",
    "''')\n",
    "\n",
    "cur.execute(cmd) # Execute\n",
    "conn.commit() # Committ command\n",
    "\n",
    "# Unpack response into timezone aware datetime\n",
    "\n",
    "time = cur.fetchall()[0][0].replace(tzinfo=pytz.timezone('America/Chicago'))\n",
    "\n",
    "# Close cursor\n",
    "cur.close()\n",
    "# Close connection\n",
    "conn.close()"
   ]
  },
  {
   "cell_type": "code",
   "execution_count": 32,
   "id": "c9f11f1f-a796-4bde-9b4c-6d3321932427",
   "metadata": {},
   "outputs": [
    {
     "data": {
      "text/plain": [
       "datetime.datetime(2023, 11, 16, 13, 41, 46, tzinfo=<DstTzInfo 'America/Chicago' LMT-1 day, 18:09:00 STD>)"
      ]
     },
     "execution_count": 32,
     "metadata": {},
     "output_type": "execute_result"
    }
   ],
   "source": [
    "time"
   ]
  },
  {
   "cell_type": "code",
   "execution_count": 33,
   "id": "95bb4248-edec-4b11-8673-237414e5b9da",
   "metadata": {},
   "outputs": [
    {
     "data": {
      "text/plain": [
       "False"
      ]
     },
     "execution_count": 33,
     "metadata": {},
     "output_type": "execute_result"
    }
   ],
   "source": [
    "time < next_update_time"
   ]
  },
  {
   "cell_type": "markdown",
   "id": "5adf82a9-d766-49fe-affa-61299d2d84a8",
   "metadata": {},
   "source": [
    "# PurpleAir Stations"
   ]
  },
  {
   "cell_type": "code",
   "execution_count": 9,
   "id": "58ec8a62-95ad-4d41-bad6-52887faf1a0d",
   "metadata": {},
   "outputs": [],
   "source": [
    "def Sensor_Information_Daily_Update(pg_connection_dict, purpleAir_api):\n",
    "    '''\n",
    "    This is the full workflow for updating our sensor information in the database. \n",
    "    Please see Daily_Updates.py for specifics on the functions\n",
    "    '''\n",
    "    pass\n",
    "    "
   ]
  },
  {
   "cell_type": "code",
   "execution_count": 41,
   "id": "b2a27e44-8140-426f-935b-1c88e29bf21b",
   "metadata": {},
   "outputs": [],
   "source": [
    "# Load information from our database\n",
    "sensors_df = Get_our_sensor_info(pg_connection_dict) # Get our sensor info"
   ]
  },
  {
   "cell_type": "code",
   "execution_count": 35,
   "id": "137e478a-a6d6-4e9d-9806-2175913ea930",
   "metadata": {},
   "outputs": [],
   "source": [
    "# Load information from PurpleAir\n",
    "nwlng, selat, selng, nwlat = Get_extent(pg_connection_dict) # Get bounds of our project\n",
    "purpleAir_df = Get_PurpleAir(nwlng, selat, selng, nwlat, purpleAir_api) # Get PurpleAir data"
   ]
  },
  {
   "cell_type": "code",
   "execution_count": 42,
   "id": "dca66dd7-869b-4e28-ba48-cc264f0195e9",
   "metadata": {},
   "outputs": [],
   "source": [
    "# Merge the datasets\n",
    "merged = pd.merge(sensors_df,\n",
    "                 purpleAir_df, \n",
    "                 on = 'sensor_index', \n",
    "                 how = 'outer',\n",
    "                 suffixes = ('_SpikeAlerts',\n",
    "                             '_PurpleAir') \n",
    "                             )"
   ]
  },
  {
   "cell_type": "code",
   "execution_count": 43,
   "id": "9e20fa20-3672-4024-ac03-8852216c67a2",
   "metadata": {},
   "outputs": [],
   "source": [
    "# Clean up datatypes\n",
    "merged['sensor_index'] = merged.sensor_index.astype(int)\n",
    "merged['channel_state'] = merged.channel_state.astype(\"Int64\")"
   ]
  },
  {
   "cell_type": "markdown",
   "id": "b06e7616-07a4-4814-bd10-6e3416bbfb52",
   "metadata": {},
   "source": [
    "### Different Names"
   ]
  },
  {
   "cell_type": "code",
   "execution_count": 44,
   "id": "b52e2c25-7727-4586-ae65-95f79a2b4325",
   "metadata": {},
   "outputs": [],
   "source": [
    "# Do the names match up?\n",
    "names_match = (merged.name_SpikeAlerts == merged.name_PurpleAir)\n",
    "\n",
    "# Different Names\n",
    "diffName_df = merged[~names_match]"
   ]
  },
  {
   "cell_type": "code",
   "execution_count": 46,
   "id": "adf85570-b2a3-4a9b-8f32-c7ba10298c71",
   "metadata": {},
   "outputs": [],
   "source": [
    "if len(diffName_df):\n",
    "\n",
    "    ## New Name - in PurpleAir not ours - Add to our database (another PurpleAir api call)\n",
    "    ### Conditions\n",
    "    is_new_name = diffName_df.name_SpikeAlerts.isna() # Boolean Series\n",
    "    # Sensor Indices as a list\n",
    "    new_indices = diffName_df[is_new_name].sensor_index.to_list()\n",
    "    if len(new_indices) > 0:\n",
    "        Add_new_PurpleAir_Stations(new_indices, pg_connection_dict, purpleAir_api)\n",
    "    \n",
    "    ## No PurpleAir Name - Potentially old sensors - flag channel_state if last seen greater than 4 days\n",
    "    ### Conditions\n",
    "    no_name_PurpleAir = (diffName_df.name_PurpleAir.isna()) # Boolean Series\n",
    "    not_seen_recently = (diffName_df.last_seen_SpikeAlerts.dt.date < (dt.datetime.now(pytz.timezone('America/Chicago')) - dt.timedelta(days = 4)).date()) # Seen in past 4 days?\n",
    "    good_channel_state = (diffName_df.channel_state != 0) # Were we aware?\n",
    "    # Sensor Indices as a list\n",
    "    bad_indices = diffName_df[no_name_PurpleAir & not_seen_recently & good_channel_state\n",
    "                              ].sensor_index.to_list()\n",
    "    if len(bad_indices) > 0:\n",
    "        Flag_channel_state(bad_indices, pg_connection_dict)\n",
    "    \n",
    "    ## Both have names but they're different - update with purpleair info\n",
    "    ### Conditions\n",
    "    name_controversy = (~no_name_PurpleAir & ~is_new_name) # Not new and not no name from PurpleAir\n",
    "    # The dataframe under these conditions\n",
    "    name_controversy_df = diffName_df[name_controversy].copy() # Has a different name!\n",
    "    if len(name_controversy_df.sensor_index) > 0:\n",
    "        Update_name(name_controversy_df, pg_connection_dict)"
   ]
  },
  {
   "cell_type": "markdown",
   "id": "e5e81a7b-0f78-4f83-88ea-07a62c8be611",
   "metadata": {},
   "source": [
    "### Same Names"
   ]
  },
  {
   "cell_type": "code",
   "execution_count": 47,
   "id": "fbdf7d56-ed66-49b4-b19f-b5fadd32c74e",
   "metadata": {},
   "outputs": [],
   "source": [
    "# If we've got a 4 in our channel_flags, \n",
    "# issue is from the previous day.\n",
    "\n",
    "# We should probably notify the City! <- done in notebook 3_Daily_Updates/1_PurpleAir_Stations.ipynb\n",
    "\n",
    "is_new_issue = (merged.channel_flags_SpikeAlerts == 4)\n",
    "\n",
    "new_issue_df = merged[is_new_issue]"
   ]
  },
  {
   "cell_type": "code",
   "execution_count": 48,
   "id": "60045c1d-ab98-40b9-83b5-8860efc1c5cb",
   "metadata": {},
   "outputs": [
    {
     "name": "stdout",
     "output_type": "stream",
     "text": [
      "Hello City of Minneapolis Health Department,\n",
      "\n",
      "    Writing today to inform you of some anomalies in the PurpleAir sensors that we discovered:\n",
      "\n",
      "    name, last seen, channel issue\n",
      "\n",
      "    \n",
      "City of Minneapolis Community Air Monitoring Project 16, 11/16/23 - 15:29, a_down\n",
      "City of Minneapolis Community Air Monitoring Project 58, 11/16/23 - 15:29, b_down\n",
      "City of Minneapolis Community Air Monitoring Project 6, 11/16/23 - 15:28, b_down\n",
      "City of Minneapolis Community Air Monitoring Project 67, 11/16/23 - 15:29, b_down\n",
      "City of Minneapolis Community Air Monitoring Project 63, 11/16/23 - 15:28, b_down\n",
      "\n",
      "Take Care,\n",
      "SpikeAlerts\n"
     ]
    }
   ],
   "source": [
    "if len(new_issue_df) > 0:\n",
    "    \n",
    "    # Conditions\n",
    "\n",
    "    conditions = ['wifi_down?', 'a_down', 'b_down', 'both_down'] # corresponds to 0, 1, 2, 3 from PurpleAir channel_flags\n",
    "\n",
    "    # Initialize storage\n",
    "\n",
    "    email = '''Hello City of Minneapolis Health Department,\n",
    "\n",
    "    Writing today to inform you of some anomalies in the PurpleAir sensors that we discovered:\n",
    "\n",
    "    name, last seen, channel issue\n",
    "\n",
    "    '''\n",
    "\n",
    "    for i, condition in enumerate(conditions):\n",
    "\n",
    "        if i == 0: # Only \"serious\" wifi issue if longer than 6 hours\n",
    "\n",
    "            con_df = new_issue_df[(new_issue_df.channel_flags_PurpleAir == i\n",
    "                                    ) & (new_issue_df.last_seen_PurpleAir < dt.datetime.now(pytz.timezone('America/Chicago')) - dt.timedelta(hours = 6))]\n",
    "        \n",
    "        else:  \n",
    "            con_df = new_issue_df[new_issue_df.channel_flags_PurpleAir == i]\n",
    "\n",
    "        for i, row in con_df.iterrows():\n",
    "\n",
    "                \n",
    "            email += f'\\n{row.name_PurpleAir}, {row.last_seen_PurpleAir.strftime(\"%m/%d/%y - %H:%M\")}, {condition}'\n",
    "\n",
    "    email += '\\n\\nTake Care,\\nSpikeAlerts'\n",
    "    print(email)\n",
    "    \n",
    "# Then update all the channel flags and last seens"
   ]
  },
  {
   "cell_type": "code",
   "execution_count": 49,
   "id": "5a0741eb-5e89-42c4-ac9c-068a1fe9f9c1",
   "metadata": {},
   "outputs": [],
   "source": [
    "# Then update all the channel flags and last seens\n",
    "\n",
    "Update_Flags_LastSeen(merged[names_match].copy(), pg_connection_dict)"
   ]
  },
  {
   "cell_type": "markdown",
   "id": "209de477-70b5-4d18-a7bc-6f2d8029925c",
   "metadata": {},
   "source": [
    "# REDCap"
   ]
  },
  {
   "cell_type": "code",
   "execution_count": 52,
   "id": "9ccee630-73f8-4ac7-8efb-efb1fbbc9d86",
   "metadata": {},
   "outputs": [],
   "source": [
    "max_record_id = Get_newest_user(pg_connection_dict)"
   ]
  },
  {
   "cell_type": "code",
   "execution_count": null,
   "id": "9d135162-bde3-472d-98e2-5f1e1f844844",
   "metadata": {
    "scrolled": true
   },
   "outputs": [],
   "source": [
    "Add_new_users_from_REDCap(max_record_id, redCap_token_signUp, pg_connection_dict)"
   ]
  }
 ],
 "metadata": {
  "kernelspec": {
   "display_name": "Python 3 (ipykernel)",
   "language": "python",
   "name": "python3"
  },
  "language_info": {
   "codemirror_mode": {
    "name": "ipython",
    "version": 3
   },
   "file_extension": ".py",
   "mimetype": "text/x-python",
   "name": "python",
   "nbconvert_exporter": "python",
   "pygments_lexer": "ipython3",
   "version": "3.10.12"
  },
  "widgets": {
   "application/vnd.jupyter.widget-state+json": {
    "state": {},
    "version_major": 2,
    "version_minor": 0
   }
  }
 },
 "nbformat": 4,
 "nbformat_minor": 5
}
